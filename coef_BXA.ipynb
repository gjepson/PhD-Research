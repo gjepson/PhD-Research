{
 "cells": [
  {
   "cell_type": "code",
   "execution_count": 1,
   "id": "20069d89",
   "metadata": {},
   "outputs": [],
   "source": [
    "import numpy as np\n",
    "import scipy.special as sp\n",
    "import math\n",
    "import matplotlib.pyplot as plt"
   ]
  },
  {
   "cell_type": "code",
   "execution_count": 2,
   "id": "db0dd53d",
   "metadata": {},
   "outputs": [],
   "source": [
    "alpha_ns = 10\n",
    "phi = 0\n",
    "N = 8\n",
    "M = 7\n",
    "\n",
    "# Will need to start over, but I'm learning\n",
    "\n"
   ]
  },
  {
   "cell_type": "code",
   "execution_count": 3,
   "id": "5058d0b1",
   "metadata": {},
   "outputs": [],
   "source": [
    "r = np.arcsinh(np.sqrt(alpha_ns))"
   ]
  },
  {
   "cell_type": "code",
   "execution_count": null,
   "id": "17923338",
   "metadata": {},
   "outputs": [],
   "source": []
  },
  {
   "cell_type": "code",
   "execution_count": null,
   "id": "89f12377",
   "metadata": {},
   "outputs": [],
   "source": []
  },
  {
   "cell_type": "code",
   "execution_count": 4,
   "id": "d3c8e6f3",
   "metadata": {},
   "outputs": [],
   "source": [
    "\n",
    "def myfunc(n,m):\n",
    "    for k1 in range(n+1):\n",
    "        for k2 in range(m+1):\n",
    "            yield (-1)**(m-k2)*math.comb(n,k1)*math.comb(m,k2)*(-np.tanh(r)**(k1+k2))"
   ]
  },
  {
   "cell_type": "code",
   "execution_count": 5,
   "id": "1a0f09a8",
   "metadata": {},
   "outputs": [],
   "source": [
    "C_fock = np.fromiter(myfunc(N,M), dtype=int)\n",
    "coef_fock = 1/np.sqrt(2**(N+M)*math.factorial(N)*math.factorial(M))\n",
    "coef_sqz = 1/np.sqrt(np.cosh(r))\n",
    "coef_coh = np.exp(-alpha_ns/2)"
   ]
  },
  {
   "cell_type": "code",
   "execution_count": 6,
   "id": "c153650a",
   "metadata": {},
   "outputs": [],
   "source": [
    "def sqz_id(n,m):\n",
    "    for k1 in range(n+1):\n",
    "        for k2 in range(m+1):\n",
    "            yield k1+k2\n",
    "            \n",
    "def coh_id(n,m):\n",
    "    for k1 in range(n+1):\n",
    "        for k2 in range(m+1):\n",
    "            yield n+m-k1-k2"
   ]
  },
  {
   "cell_type": "code",
   "execution_count": 7,
   "id": "1cdf7f43",
   "metadata": {},
   "outputs": [],
   "source": [
    "arr1 = np.fromiter(sqz_id(N,M), dtype=int)\n",
    "arr2 = np.fromiter(coh_id(N,M), dtype=int)"
   ]
  },
  {
   "cell_type": "code",
   "execution_count": 8,
   "id": "59f9cfa9",
   "metadata": {},
   "outputs": [],
   "source": [
    "C_sqz = np.tanh(r)**arr1*np.sqrt(sp.factorial(2*arr1))/(2**arr1*np.sqrt(sp.factorial(arr1)))\n",
    "C_a = np.sqrt(alpha_ns)**arr2"
   ]
  },
  {
   "cell_type": "code",
   "execution_count": null,
   "id": "a57b2a34",
   "metadata": {},
   "outputs": [],
   "source": []
  },
  {
   "cell_type": "code",
   "execution_count": null,
   "id": "f005836c",
   "metadata": {},
   "outputs": [],
   "source": []
  },
  {
   "cell_type": "code",
   "execution_count": null,
   "id": "fd041c9f",
   "metadata": {},
   "outputs": [],
   "source": []
  },
  {
   "cell_type": "code",
   "execution_count": null,
   "id": "c5576291",
   "metadata": {},
   "outputs": [],
   "source": []
  },
  {
   "cell_type": "code",
   "execution_count": 9,
   "id": "79dafdf4",
   "metadata": {},
   "outputs": [],
   "source": [
    "state = coef_fock*coef_sqz*coef_coh*C_fock*C_sqz*C_a"
   ]
  },
  {
   "cell_type": "code",
   "execution_count": 10,
   "id": "0376abe1",
   "metadata": {},
   "outputs": [
    {
     "data": {
      "text/plain": [
       "[<matplotlib.lines.Line2D at 0x1aa2bc91310>]"
      ]
     },
     "execution_count": 10,
     "metadata": {},
     "output_type": "execute_result"
    },
    {
     "data": {
      "image/png": "[encoded data removed]",
      "text/plain": [
       "<Figure size 432x288 with 1 Axes>"
      ]
     },
     "metadata": {
      "needs_background": "light"
     },
     "output_type": "display_data"
    }
   ],
   "source": [
    "plt.plot(state)"
   ]
  },
  {
   "cell_type": "code",
   "execution_count": null,
   "id": "8b959472",
   "metadata": {},
   "outputs": [],
   "source": []
  },
  {
   "cell_type": "code",
   "execution_count": null,
   "id": "6b753421",
   "metadata": {},
   "outputs": [],
   "source": []
  },
  {
   "cell_type": "code",
   "execution_count": 11,
   "id": "ecddf740",
   "metadata": {},
   "outputs": [
    {
     "data": {
      "text/plain": [
       "<matplotlib.patches.StepPatch at 0x1aa2bd97460>"
      ]
     },
     "execution_count": 11,
     "metadata": {},
     "output_type": "execute_result"
    },
    {
     "data": {
      "image/png": "[encoded data removed]",
      "text/plain": [
       "<Figure size 432x288 with 1 Axes>"
      ]
     },
     "metadata": {
      "needs_background": "light"
     },
     "output_type": "display_data"
    }
   ],
   "source": [
    "counts, bins = np.histogram(state)\n",
    "plt.stairs(counts, bins)"
   ]
  },
  {
   "cell_type": "code",
   "execution_count": null,
   "id": "ad933b1d",
   "metadata": {},
   "outputs": [],
   "source": []
  }
 ],
 "metadata": {
  "kernelspec": {
   "display_name": "Python 3 (ipykernel)",
   "language": "python",
   "name": "python3"
  },
  "language_info": {
   "codemirror_mode": {
    "name": "ipython",
    "version": 3
   },
   "file_extension": ".py",
   "mimetype": "text/x-python",
   "name": "python",
   "nbconvert_exporter": "python",
   "pygments_lexer": "ipython3",
   "version": "3.9.12"
  }
 },
 "nbformat": 4,
 "nbformat_minor": 5
}
